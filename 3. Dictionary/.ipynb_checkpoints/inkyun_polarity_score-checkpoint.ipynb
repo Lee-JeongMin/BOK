{
 "cells": [
  {
   "cell_type": "code",
   "execution_count": 1,
   "metadata": {},
   "outputs": [],
   "source": [
    "import pandas as pd\n",
    "import numpy as np\n",
    "from collections import Counter\n",
    "from tqdm.notebook import tqdm"
   ]
  },
  {
   "cell_type": "code",
   "execution_count": 2,
   "metadata": {},
   "outputs": [],
   "source": [
    "df = pd.read_csv('c:/Users/user/downloads/2_nrm_callrate_merge.csv')\n",
    "# df = df.loc[:4999]"
   ]
  },
  {
   "cell_type": "code",
   "execution_count": 3,
   "metadata": {},
   "outputs": [],
   "source": [
    "def get_freq(DF):\n",
    "    words_list = []\n",
    "    try:\n",
    "        for idx, words in enumerate(DF.ngram):\n",
    "            words_list.extend(words.replace('[','').replace(']','').replace('\\'','').replace(' ','').split(','))\n",
    "    except:\n",
    "        print(idx)\n",
    "        pass\n",
    "    freq_counter = Counter(words_list)\n",
    "    \n",
    "    return freq_counter"
   ]
  },
  {
   "cell_type": "code",
   "execution_count": 4,
   "metadata": {},
   "outputs": [
    {
     "name": "stdout",
     "output_type": "stream",
     "text": [
      "26983\n",
      "59064\n"
     ]
    }
   ],
   "source": [
    "up_df = df[df['label'] == 'up']\n",
    "down_df = df[df['label'] == 'down']\n",
    "\n",
    "up_counter = get_freq(up_df)\n",
    "down_counter = get_freq(down_df)\n",
    "\n",
    "total_ngram = set(get_freq(df).keys())"
   ]
  },
  {
   "cell_type": "code",
   "execution_count": 11,
   "metadata": {},
   "outputs": [
    {
     "data": {
      "application/vnd.jupyter.widget-view+json": {
       "model_id": "2e334e5eee1c463dbcc33de1522acf0f",
       "version_major": 2,
       "version_minor": 0
      },
      "text/plain": [
       "HBox(children=(FloatProgress(value=1.0, bar_style='info', max=1.0), HTML(value='')))"
      ]
     },
     "metadata": {},
     "output_type": "display_data"
    },
    {
     "name": "stdout",
     "output_type": "stream",
     "text": [
      "\n"
     ]
    }
   ],
   "source": [
    "df_score = pd.DataFrame(columns=['ngram','up_count','down_count'])\n",
    "df_score.ngram = list(total_ngram)\n",
    "\n",
    "for row, ngram in tqdm(enumerate(df_score.ngram)):\n",
    "    df_score.loc[row,'up_count'] = up_counter[ngram]\n",
    "    df_score.loc[row,'down_count'] = down_counter[ngram]\n",
    "\n",
    "df_score['total_count'] = df_score['up_count'] + df_score['down_count']"
   ]
  },
  {
   "cell_type": "code",
   "execution_count": 12,
   "metadata": {},
   "outputs": [],
   "source": [
    "df_score.drop(df_score.index[df_score[df_score.total_count<15].index], inplace=True)"
   ]
  },
  {
   "cell_type": "code",
   "execution_count": 13,
   "metadata": {},
   "outputs": [
    {
     "data": {
      "text/html": [
       "<div>\n",
       "<style scoped>\n",
       "    .dataframe tbody tr th:only-of-type {\n",
       "        vertical-align: middle;\n",
       "    }\n",
       "\n",
       "    .dataframe tbody tr th {\n",
       "        vertical-align: top;\n",
       "    }\n",
       "\n",
       "    .dataframe thead th {\n",
       "        text-align: right;\n",
       "    }\n",
       "</style>\n",
       "<table border=\"1\" class=\"dataframe\">\n",
       "  <thead>\n",
       "    <tr style=\"text-align: right;\">\n",
       "      <th></th>\n",
       "      <th>ngram</th>\n",
       "      <th>up_count</th>\n",
       "      <th>down_count</th>\n",
       "      <th>total_count</th>\n",
       "    </tr>\n",
       "  </thead>\n",
       "  <tbody>\n",
       "    <tr>\n",
       "      <th>79555</th>\n",
       "      <td>매출/NNG;전망/NNG;낮/VV</td>\n",
       "      <td>3</td>\n",
       "      <td>12</td>\n",
       "      <td>15</td>\n",
       "    </tr>\n",
       "    <tr>\n",
       "      <th>41884</th>\n",
       "      <td>가격/NNG;상승/NNG;부담/NNG</td>\n",
       "      <td>8</td>\n",
       "      <td>7</td>\n",
       "      <td>15</td>\n",
       "    </tr>\n",
       "    <tr>\n",
       "      <th>41900</th>\n",
       "      <td>옵틱/NNG</td>\n",
       "      <td>2</td>\n",
       "      <td>13</td>\n",
       "      <td>15</td>\n",
       "    </tr>\n",
       "    <tr>\n",
       "      <th>92389</th>\n",
       "      <td>피인수설/NNG</td>\n",
       "      <td>2</td>\n",
       "      <td>13</td>\n",
       "      <td>15</td>\n",
       "    </tr>\n",
       "    <tr>\n",
       "      <th>80904</th>\n",
       "      <td>테스트베드/NNG</td>\n",
       "      <td>3</td>\n",
       "      <td>12</td>\n",
       "      <td>15</td>\n",
       "    </tr>\n",
       "    <tr>\n",
       "      <th>...</th>\n",
       "      <td>...</td>\n",
       "      <td>...</td>\n",
       "      <td>...</td>\n",
       "      <td>...</td>\n",
       "    </tr>\n",
       "    <tr>\n",
       "      <th>94715</th>\n",
       "      <td>보/VV</td>\n",
       "      <td>49052</td>\n",
       "      <td>185083</td>\n",
       "      <td>234135</td>\n",
       "    </tr>\n",
       "    <tr>\n",
       "      <th>33813</th>\n",
       "      <td>되/VV</td>\n",
       "      <td>105373</td>\n",
       "      <td>379933</td>\n",
       "      <td>485306</td>\n",
       "    </tr>\n",
       "    <tr>\n",
       "      <th>12308</th>\n",
       "      <td>금리/NNG</td>\n",
       "      <td>105576</td>\n",
       "      <td>398333</td>\n",
       "      <td>503909</td>\n",
       "    </tr>\n",
       "    <tr>\n",
       "      <th>91562</th>\n",
       "      <td>하/XSV</td>\n",
       "      <td>133506</td>\n",
       "      <td>483661</td>\n",
       "      <td>617167</td>\n",
       "    </tr>\n",
       "    <tr>\n",
       "      <th>32147</th>\n",
       "      <td>하/VV</td>\n",
       "      <td>269925</td>\n",
       "      <td>1040636</td>\n",
       "      <td>1310561</td>\n",
       "    </tr>\n",
       "  </tbody>\n",
       "</table>\n",
       "<p>34904 rows × 4 columns</p>\n",
       "</div>"
      ],
      "text/plain": [
       "                      ngram up_count down_count total_count\n",
       "79555    매출/NNG;전망/NNG;낮/VV        3         12          15\n",
       "41884  가격/NNG;상승/NNG;부담/NNG        8          7          15\n",
       "41900                옵틱/NNG        2         13          15\n",
       "92389              피인수설/NNG        2         13          15\n",
       "80904             테스트베드/NNG        3         12          15\n",
       "...                     ...      ...        ...         ...\n",
       "94715                  보/VV    49052     185083      234135\n",
       "33813                  되/VV   105373     379933      485306\n",
       "12308                금리/NNG   105576     398333      503909\n",
       "91562                 하/XSV   133506     483661      617167\n",
       "32147                  하/VV   269925    1040636     1310561\n",
       "\n",
       "[34904 rows x 4 columns]"
      ]
     },
     "execution_count": 13,
     "metadata": {},
     "output_type": "execute_result"
    }
   ],
   "source": [
    "df_score.sort_values(by='total_count', ascending=True)"
   ]
  },
  {
   "cell_type": "code",
   "execution_count": 15,
   "metadata": {},
   "outputs": [],
   "source": [
    "# p_hawkish = sum(df_score.up_count)/sum(df_score.total_count)\n",
    "# p_dovish = sum(df_score.down_count)/sum(df_score.total_count)\n",
    "\n",
    "n_hawkish = sum(df_score.up_count)\n",
    "n_dovish = sum(df_score.down_count)\n",
    "\n",
    "p_hawkish = df_score.up_count/n_hawkish\n",
    "p_dovish = df_score.down_count/n_dovish\n",
    "\n",
    "df_score['polar_score'] = p_hawkish.map(lambda x: np.float(x))/p_dovish.map(lambda x: np.float(x))\n",
    "df_score['polarity'] = np.where(df_score['polar_score'] > (1.3/1), 'Hawkish', np.where(df_score['polar_score'] < (1/1.3), 'Dovish','nothing'))"
   ]
  },
  {
   "cell_type": "code",
   "execution_count": 16,
   "metadata": {},
   "outputs": [],
   "source": [
    "df_score.reset_index(drop=True, inplace=True)"
   ]
  },
  {
   "cell_type": "code",
   "execution_count": 18,
   "metadata": {},
   "outputs": [],
   "source": [
    "hawk_dic = df_score[df_score.polarity == 'Hawkish'].reset_index(drop=True)\n",
    "dove_dic = df_score[df_score.polarity == 'Dovish'].reset_index(drop=True)\n",
    "\n",
    "hawk_dic.to_csv('c:/Users/user/hawk_dic.csv',index = False)\n",
    "dove_dic.to_csv('c:/Users/user/dove_dic.csv',index = False)"
   ]
  }
 ],
 "metadata": {
  "kernelspec": {
   "display_name": "Python 3",
   "language": "python",
   "name": "python3"
  },
  "language_info": {
   "codemirror_mode": {
    "name": "ipython",
    "version": 3
   },
   "file_extension": ".py",
   "mimetype": "text/x-python",
   "name": "python",
   "nbconvert_exporter": "python",
   "pygments_lexer": "ipython3",
   "version": "3.6.10"
  }
 },
 "nbformat": 4,
 "nbformat_minor": 4
}
