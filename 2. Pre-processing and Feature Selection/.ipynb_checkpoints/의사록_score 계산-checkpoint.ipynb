{
 "cells": [
  {
   "cell_type": "code",
   "execution_count": 13,
   "metadata": {},
   "outputs": [],
   "source": [
    "import pandas as pd\n",
    "from ekonlpy.sentiment import MPCK"
   ]
  },
  {
   "cell_type": "code",
   "execution_count": 9,
   "metadata": {},
   "outputs": [],
   "source": [
    "df_label = pd.read_csv('C:/users/user/df_label.csv',index_col=0)"
   ]
  },
  {
   "cell_type": "code",
   "execution_count": 10,
   "metadata": {},
   "outputs": [
    {
     "data": {
      "text/html": [
       "<div>\n",
       "<style scoped>\n",
       "    .dataframe tbody tr th:only-of-type {\n",
       "        vertical-align: middle;\n",
       "    }\n",
       "\n",
       "    .dataframe tbody tr th {\n",
       "        vertical-align: top;\n",
       "    }\n",
       "\n",
       "    .dataframe thead th {\n",
       "        text-align: right;\n",
       "    }\n",
       "</style>\n",
       "<table border=\"1\" class=\"dataframe\">\n",
       "  <thead>\n",
       "    <tr style=\"text-align: right;\">\n",
       "      <th></th>\n",
       "      <th>date</th>\n",
       "      <th>title</th>\n",
       "      <th>content</th>\n",
       "      <th>ngram</th>\n",
       "      <th>token</th>\n",
       "      <th>label</th>\n",
       "    </tr>\n",
       "  </thead>\n",
       "  <tbody>\n",
       "    <tr>\n",
       "      <th>0</th>\n",
       "      <td>2008-04-10</td>\n",
       "      <td>금융통화위원회 의사록(2008년도 제8차)</td>\n",
       "      <td>일부 위원은 금년 하반기중 국내경제가 소,｢ ｣ 프트패치 로 평가된 년 분기부터 년...</td>\n",
       "      <td>['국제/NNG;금융시장/NNG;불안/NNG;경기/NNG;부진/NNG', '국제/N...</td>\n",
       "      <td>['중/NNG', '경제/NNG', '소/NNG', '트/NNG', '패치/NNG'...</td>\n",
       "      <td>down</td>\n",
       "    </tr>\n",
       "    <tr>\n",
       "      <th>1</th>\n",
       "      <td>2008-05-08</td>\n",
       "      <td>금융통화위원회 의사록(2008년도 제10차)</td>\n",
       "      <td>일부 위원은 최근 경기상승세가 둔화되고,｢ ｣ 있는 가운데 일각에서는 경기가 금년 ...</td>\n",
       "      <td>['국제/NNG;금융시장/NNG;불안/NNG;경기/NNG;부진/NNG', '물가/N...</td>\n",
       "      <td>['경기/NNG', '상승/NNG', '둔화/NNG', '되/XSV', '있/VA'...</td>\n",
       "      <td>down</td>\n",
       "    </tr>\n",
       "    <tr>\n",
       "      <th>2</th>\n",
       "      <td>2008-05-22</td>\n",
       "      <td>금융통화위원회 의사록(2008년도 제11차)</td>\n",
       "      <td>NaN</td>\n",
       "      <td>[]</td>\n",
       "      <td>[]</td>\n",
       "      <td>up</td>\n",
       "    </tr>\n",
       "    <tr>\n",
       "      <th>3</th>\n",
       "      <td>2008-06-12</td>\n",
       "      <td>금융통화위원회 의사록(2008년도 제12차)</td>\n",
       "      <td>일부 위원은 금년 월중 제조업 및 서비, 4 5｢ ｣ ～ 스업 생산활동이 비교적 괜...</td>\n",
       "      <td>['국제/NNG;금융시장/NNG;불안/NNG;경기/NNG;부진/NNG', '국제/N...</td>\n",
       "      <td>['월중/NNG', '제조업/NNG', '업/NNG', '생산/NNG', '활동/N...</td>\n",
       "      <td>down</td>\n",
       "    </tr>\n",
       "    <tr>\n",
       "      <th>4</th>\n",
       "      <td>2008-06-26</td>\n",
       "      <td>금융통화위원회 의사록(2008년도 제13차)</td>\n",
       "      <td>NaN</td>\n",
       "      <td>[]</td>\n",
       "      <td>[]</td>\n",
       "      <td>up</td>\n",
       "    </tr>\n",
       "    <tr>\n",
       "      <th>...</th>\n",
       "      <td>...</td>\n",
       "      <td>...</td>\n",
       "      <td>...</td>\n",
       "      <td>...</td>\n",
       "      <td>...</td>\n",
       "      <td>...</td>\n",
       "    </tr>\n",
       "    <tr>\n",
       "      <th>250</th>\n",
       "      <td>2020-06-11</td>\n",
       "      <td>제13차_금통위 의사록</td>\n",
       "      <td>NaN</td>\n",
       "      <td>[]</td>\n",
       "      <td>[]</td>\n",
       "      <td>down</td>\n",
       "    </tr>\n",
       "    <tr>\n",
       "      <th>251</th>\n",
       "      <td>2020-06-24</td>\n",
       "      <td>제14차_금통위 의사록</td>\n",
       "      <td>NaN</td>\n",
       "      <td>[]</td>\n",
       "      <td>[]</td>\n",
       "      <td>down</td>\n",
       "    </tr>\n",
       "    <tr>\n",
       "      <th>252</th>\n",
       "      <td>2020-07-16</td>\n",
       "      <td>제15차_금통위 의사록</td>\n",
       "      <td>일부 위원은 지난 경제전망 이후 민간소비의 회복 속도가 예상보다 더딘 데  다 수출...</td>\n",
       "      <td>['국고채/NNG;금리/NNG;하락/NNG;금리/NNG;인하/NNG', '성장/NN...</td>\n",
       "      <td>['경제/NNG', '전망/NNG', '민간/NNG', '소비/NNG', '회복/N...</td>\n",
       "      <td>up</td>\n",
       "    </tr>\n",
       "    <tr>\n",
       "      <th>253</th>\n",
       "      <td>2020-07-17</td>\n",
       "      <td>제16차_금통위 의사록</td>\n",
       "      <td>NaN</td>\n",
       "      <td>[]</td>\n",
       "      <td>[]</td>\n",
       "      <td>down</td>\n",
       "    </tr>\n",
       "    <tr>\n",
       "      <th>254</th>\n",
       "      <td>2020-07-30</td>\n",
       "      <td>제17차_금통위 의사록</td>\n",
       "      <td>NaN</td>\n",
       "      <td>[]</td>\n",
       "      <td>[]</td>\n",
       "      <td>down</td>\n",
       "    </tr>\n",
       "  </tbody>\n",
       "</table>\n",
       "<p>255 rows × 6 columns</p>\n",
       "</div>"
      ],
      "text/plain": [
       "           date                     title  \\\n",
       "0    2008-04-10   금융통화위원회 의사록(2008년도 제8차)   \n",
       "1    2008-05-08  금융통화위원회 의사록(2008년도 제10차)   \n",
       "2    2008-05-22  금융통화위원회 의사록(2008년도 제11차)   \n",
       "3    2008-06-12  금융통화위원회 의사록(2008년도 제12차)   \n",
       "4    2008-06-26  금융통화위원회 의사록(2008년도 제13차)   \n",
       "..          ...                       ...   \n",
       "250  2020-06-11              제13차_금통위 의사록   \n",
       "251  2020-06-24              제14차_금통위 의사록   \n",
       "252  2020-07-16              제15차_금통위 의사록   \n",
       "253  2020-07-17              제16차_금통위 의사록   \n",
       "254  2020-07-30              제17차_금통위 의사록   \n",
       "\n",
       "                                               content  \\\n",
       "0    일부 위원은 금년 하반기중 국내경제가 소,｢ ｣ 프트패치 로 평가된 년 분기부터 년...   \n",
       "1    일부 위원은 최근 경기상승세가 둔화되고,｢ ｣ 있는 가운데 일각에서는 경기가 금년 ...   \n",
       "2                                                  NaN   \n",
       "3    일부 위원은 금년 월중 제조업 및 서비, 4 5｢ ｣ ～ 스업 생산활동이 비교적 괜...   \n",
       "4                                                  NaN   \n",
       "..                                                 ...   \n",
       "250                                                NaN   \n",
       "251                                                NaN   \n",
       "252  일부 위원은 지난 경제전망 이후 민간소비의 회복 속도가 예상보다 더딘 데  다 수출...   \n",
       "253                                                NaN   \n",
       "254                                                NaN   \n",
       "\n",
       "                                                 ngram  \\\n",
       "0    ['국제/NNG;금융시장/NNG;불안/NNG;경기/NNG;부진/NNG', '국제/N...   \n",
       "1    ['국제/NNG;금융시장/NNG;불안/NNG;경기/NNG;부진/NNG', '물가/N...   \n",
       "2                                                   []   \n",
       "3    ['국제/NNG;금융시장/NNG;불안/NNG;경기/NNG;부진/NNG', '국제/N...   \n",
       "4                                                   []   \n",
       "..                                                 ...   \n",
       "250                                                 []   \n",
       "251                                                 []   \n",
       "252  ['국고채/NNG;금리/NNG;하락/NNG;금리/NNG;인하/NNG', '성장/NN...   \n",
       "253                                                 []   \n",
       "254                                                 []   \n",
       "\n",
       "                                                 token label  \n",
       "0    ['중/NNG', '경제/NNG', '소/NNG', '트/NNG', '패치/NNG'...  down  \n",
       "1    ['경기/NNG', '상승/NNG', '둔화/NNG', '되/XSV', '있/VA'...  down  \n",
       "2                                                   []    up  \n",
       "3    ['월중/NNG', '제조업/NNG', '업/NNG', '생산/NNG', '활동/N...  down  \n",
       "4                                                   []    up  \n",
       "..                                                 ...   ...  \n",
       "250                                                 []  down  \n",
       "251                                                 []  down  \n",
       "252  ['경제/NNG', '전망/NNG', '민간/NNG', '소비/NNG', '회복/N...    up  \n",
       "253                                                 []  down  \n",
       "254                                                 []  down  \n",
       "\n",
       "[255 rows x 6 columns]"
      ]
     },
     "execution_count": 10,
     "metadata": {},
     "output_type": "execute_result"
    }
   ],
   "source": [
    "df_label"
   ]
  },
  {
   "cell_type": "code",
   "execution_count": 14,
   "metadata": {},
   "outputs": [],
   "source": [
    "mpck = MPCK()"
   ]
  },
  {
   "cell_type": "code",
   "execution_count": 19,
   "metadata": {},
   "outputs": [
    {
     "name": "stdout",
     "output_type": "stream",
     "text": [
      "0 / 255\n",
      "15 / 255\n",
      "30 / 255\n",
      "45 / 255\n",
      "60 / 255\n",
      "75 / 255\n",
      "90 / 255\n",
      "105 / 255\n",
      "120 / 255\n",
      "135 / 255\n",
      "150 / 255\n",
      "165 / 255\n",
      "180 / 255\n",
      "195 / 255\n",
      "210 / 255\n",
      "225 / 255\n",
      "240 / 255\n",
      "모든 작업 완료\n"
     ]
    }
   ],
   "source": [
    "score_list = []\n",
    "for i in range(df_label.shape[0]):\n",
    "    score_list.append(mpck.classify(df_label.loc[i,'token'] + df_label.loc[i,'ngram']))\n",
    "    \n",
    "    if i % 15 == 0:\n",
    "        print(i,'/',df_label.shape[0])\n",
    "print('모든 작업 완료')"
   ]
  },
  {
   "cell_type": "code",
   "execution_count": 26,
   "metadata": {},
   "outputs": [
    {
     "data": {
      "text/plain": [
       "{'Polarity': 0,\n",
       " 'Intensity': 1.2948008462894685,\n",
       " 'Pos score': 0.5642329020332717,\n",
       " 'Neg score': 0.43576709796672825}"
      ]
     },
     "execution_count": 26,
     "metadata": {},
     "output_type": "execute_result"
    }
   ],
   "source": [
    "mpck.classify(df_label.loc[0,'token'] + df_label.loc[0,'ngram'])"
   ]
  },
  {
   "cell_type": "code",
   "execution_count": 27,
   "metadata": {},
   "outputs": [
    {
     "data": {
      "text/plain": [
       "{'Polarity': 0,\n",
       " 'Intensity': 1.2948008462894685,\n",
       " 'Pos score': 0.5642329020332717,\n",
       " 'Neg score': 0.43576709796672825}"
      ]
     },
     "execution_count": 27,
     "metadata": {},
     "output_type": "execute_result"
    }
   ],
   "source": [
    "mpck.classify(df_label.loc[1,'token'] + df_label.loc[1,'ngram'])"
   ]
  },
  {
   "cell_type": "code",
   "execution_count": 28,
   "metadata": {},
   "outputs": [
    {
     "data": {
      "text/plain": [
       "{'Polarity': 0,\n",
       " 'Intensity': 1.2948008462894685,\n",
       " 'Pos score': 0.5642329020332717,\n",
       " 'Neg score': 0.43576709796672825}"
      ]
     },
     "execution_count": 28,
     "metadata": {},
     "output_type": "execute_result"
    }
   ],
   "source": [
    "mpck.classify(df_label.loc[252,'token'] + df_label.loc[252,'ngram'])"
   ]
  },
  {
   "cell_type": "code",
   "execution_count": null,
   "metadata": {},
   "outputs": [],
   "source": []
  },
  {
   "cell_type": "code",
   "execution_count": null,
   "metadata": {},
   "outputs": [],
   "source": []
  }
 ],
 "metadata": {
  "kernelspec": {
   "display_name": "Python 3",
   "language": "python",
   "name": "python3"
  },
  "language_info": {
   "codemirror_mode": {
    "name": "ipython",
    "version": 3
   },
   "file_extension": ".py",
   "mimetype": "text/x-python",
   "name": "python",
   "nbconvert_exporter": "python",
   "pygments_lexer": "ipython3",
   "version": "3.6.10"
  }
 },
 "nbformat": 4,
 "nbformat_minor": 4
}
