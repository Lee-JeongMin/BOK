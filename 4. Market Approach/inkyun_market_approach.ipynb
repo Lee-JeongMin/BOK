{
 "cells": [
  {
   "cell_type": "code",
   "execution_count": 1,
   "metadata": {},
   "outputs": [],
   "source": [
    "import pandas as pd\n",
    "from ekonlpy.sentiment import MPCK\n",
    "mpck = MPCK()"
   ]
  },
  {
   "cell_type": "code",
   "execution_count": 2,
   "metadata": {},
   "outputs": [],
   "source": [
    "hawk = pd.read_csv('c:/users/user/hawk_dic.csv')\n",
    "dove = pd.read_csv('c:/users/user/dove_dic.csv')"
   ]
  },
  {
   "cell_type": "code",
   "execution_count": 3,
   "metadata": {},
   "outputs": [],
   "source": [
    "minutes = pd.read_csv('c:/users/user/minutes_with_label.csv', index_col = 0).dropna().reset_index(drop=True)\n",
    "# minutes['ngram'] = minutes.ngram.apply(lambda x: x.replace('[','').replace(']','').replace('\\'','').replace(' ','').split(','))"
   ]
  },
  {
   "cell_type": "markdown",
   "metadata": {},
   "source": [
    "의사록내의 개별 문장에 대한 hawkish/dovish features를 토대로 개별문장 tone을 구한 뒤,  \n",
    "개별문장 톤을 종합해서 문서에 대한 tone을 구한다."
   ]
  },
  {
   "cell_type": "code",
   "execution_count": 4,
   "metadata": {},
   "outputs": [],
   "source": [
    "def tone_sentence(sentence):\n",
    "    n_hawk, n_dove = 0, 0\n",
    "    tokens = mpck.tokenize(sentence)\n",
    "    ngrams = mpck.ngramize(tokens) + tokens\n",
    "    for ngram in ngrams:\n",
    "        n_hawk += list(hawk.ngram).count(ngram)\n",
    "        n_dove += list(dove.ngram).count(ngram)\n",
    "    try:     \n",
    "        result =  (n_hawk - n_dove)/(n_hawk + n_dove)\n",
    "    except:\n",
    "        result = 0 # ZeroDivisionError 처리\n",
    "        \n",
    "    return result\n",
    "\n",
    "def tone_minute(minute):\n",
    "    tone = {'hawk':0,'dove':0}\n",
    "    clean_minute = list(map(str.strip, minute.replace('  ','').split('.')))\n",
    "    for sentence in clean_minute:\n",
    "        if tone_sentence(sentence) > 0:\n",
    "            tone['hawk'] += 1\n",
    "        elif tone_sentence(sentence) < 0:\n",
    "            tone['dove'] += 1\n",
    "            \n",
    "    return (tone['hawk'] - tone['dove']) / (tone['hawk'] + tone['dove'])"
   ]
  },
  {
   "cell_type": "markdown",
   "metadata": {},
   "source": [
    "기준금리와 비교"
   ]
  },
  {
   "cell_type": "code",
   "execution_count": null,
   "metadata": {},
   "outputs": [],
   "source": [
    "from tqdm.notebook import tqdm\n",
    "\n",
    "df_result = minutes\n",
    "\n",
    "for row, minute in enumerate(tqdm(minutes.content)):\n",
    "    df_result.loc[row,'TONE_Doc'] = tone_minute(minute)\n"
   ]
  },
  {
   "cell_type": "code",
   "execution_count": null,
   "metadata": {},
   "outputs": [],
   "source": [
    "df_result = df_result.drop(['title','content','ngram','label'], axis=1)\n",
    "df_result.to_csv('c:/users/user/Tone_doc.csv', index = False)"
   ]
  },
  {
   "cell_type": "code",
   "execution_count": 6,
   "metadata": {},
   "outputs": [
    {
     "data": {
      "text/html": [
       "<div>\n",
       "<style scoped>\n",
       "    .dataframe tbody tr th:only-of-type {\n",
       "        vertical-align: middle;\n",
       "    }\n",
       "\n",
       "    .dataframe tbody tr th {\n",
       "        vertical-align: top;\n",
       "    }\n",
       "\n",
       "    .dataframe thead th {\n",
       "        text-align: right;\n",
       "    }\n",
       "</style>\n",
       "<table border=\"1\" class=\"dataframe\">\n",
       "  <thead>\n",
       "    <tr style=\"text-align: right;\">\n",
       "      <th></th>\n",
       "      <th>date</th>\n",
       "      <th>TONE_Doc</th>\n",
       "    </tr>\n",
       "  </thead>\n",
       "  <tbody>\n",
       "    <tr>\n",
       "      <th>0</th>\n",
       "      <td>2008-04-10</td>\n",
       "      <td>0.276923</td>\n",
       "    </tr>\n",
       "    <tr>\n",
       "      <th>1</th>\n",
       "      <td>2008-05-08</td>\n",
       "      <td>0.328467</td>\n",
       "    </tr>\n",
       "    <tr>\n",
       "      <th>2</th>\n",
       "      <td>2008-06-12</td>\n",
       "      <td>0.354839</td>\n",
       "    </tr>\n",
       "    <tr>\n",
       "      <th>3</th>\n",
       "      <td>2008-07-10</td>\n",
       "      <td>0.369048</td>\n",
       "    </tr>\n",
       "    <tr>\n",
       "      <th>4</th>\n",
       "      <td>2008-08-07</td>\n",
       "      <td>0.309353</td>\n",
       "    </tr>\n",
       "  </tbody>\n",
       "</table>\n",
       "</div>"
      ],
      "text/plain": [
       "         date  TONE_Doc\n",
       "0  2008-04-10  0.276923\n",
       "1  2008-05-08  0.328467\n",
       "2  2008-06-12  0.354839\n",
       "3  2008-07-10  0.369048\n",
       "4  2008-08-07  0.309353"
      ]
     },
     "execution_count": 6,
     "metadata": {},
     "output_type": "execute_result"
    }
   ],
   "source": [
    "df_result.head()"
   ]
  },
  {
   "cell_type": "code",
   "execution_count": null,
   "metadata": {},
   "outputs": [],
   "source": [
    "print('Hawkish: ',(df_result.TONE_Doc > 0).sum())\n",
    "print('Dovish: ',(df_result.TONE_Doc < 0).sum())"
   ]
  }
 ],
 "metadata": {
  "kernelspec": {
   "display_name": "Python 3",
   "language": "python",
   "name": "python3"
  },
  "language_info": {
   "codemirror_mode": {
    "name": "ipython",
    "version": 3
   },
   "file_extension": ".py",
   "mimetype": "text/x-python",
   "name": "python",
   "nbconvert_exporter": "python",
   "pygments_lexer": "ipython3",
   "version": "3.6.10"
  }
 },
 "nbformat": 4,
 "nbformat_minor": 4
}
