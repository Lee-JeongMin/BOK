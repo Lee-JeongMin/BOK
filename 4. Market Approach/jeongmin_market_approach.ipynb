{
 "cells": [
  {
   "cell_type": "markdown",
   "metadata": {},
   "source": [
    "### 3-1. 문장의 어조(tone_s)를 구한 후 문서 전체의 어조(tone_i)를 구한다."
   ]
  },
  {
   "cell_type": "code",
   "execution_count": 1,
   "metadata": {},
   "outputs": [],
   "source": [
    "from ekonlpy.tag import Mecab\n",
    "from ekonlpy.sentiment import MPCK\n",
    "import pandas as pd\n",
    "import numpy as np\n",
    "mpck = MPCK()"
   ]
  },
  {
   "cell_type": "code",
   "execution_count": 2,
   "metadata": {},
   "outputs": [],
   "source": [
    "# 단어 사전을 불러온다.\n",
    "pos_dic = pd.read_csv('../datasets/3_pos_dict.csv')\n",
    "neg_dic = pd.read_csv('../datasets/3_neg_dict.csv')"
   ]
  },
  {
   "cell_type": "code",
   "execution_count": 3,
   "metadata": {},
   "outputs": [
    {
     "data": {
      "text/html": [
       "<div>\n",
       "<style scoped>\n",
       "    .dataframe tbody tr th:only-of-type {\n",
       "        vertical-align: middle;\n",
       "    }\n",
       "\n",
       "    .dataframe tbody tr th {\n",
       "        vertical-align: top;\n",
       "    }\n",
       "\n",
       "    .dataframe thead th {\n",
       "        text-align: right;\n",
       "    }\n",
       "</style>\n",
       "<table border=\"1\" class=\"dataframe\">\n",
       "  <thead>\n",
       "    <tr style=\"text-align: right;\">\n",
       "      <th></th>\n",
       "      <th>date</th>\n",
       "      <th>title</th>\n",
       "      <th>content</th>\n",
       "      <th>ngram</th>\n",
       "      <th>label</th>\n",
       "    </tr>\n",
       "  </thead>\n",
       "  <tbody>\n",
       "    <tr>\n",
       "      <th>241</th>\n",
       "      <td>2020-01-17</td>\n",
       "      <td>제1차_금통위 의사록</td>\n",
       "      <td>일부 위원은 미국 ISM제조업지수의 최근 월 발표내용을 보면 다수의 산업에  서 수...</td>\n",
       "      <td>['ism/NNG', '제조업/NNG', '지수/NNG', '발표/NNG', '내용...</td>\n",
       "      <td>same</td>\n",
       "    </tr>\n",
       "    <tr>\n",
       "      <th>242</th>\n",
       "      <td>2020-02-27</td>\n",
       "      <td>제4차_금통위 의사록</td>\n",
       "      <td>일부 위원은 국내경제가 올해 회복세로 전환될 것이라는 당초 전망의 중요한  전제 중...</td>\n",
       "      <td>['경제/NNG', '회복/NNG', '전환/NNG', '되/VV', '전망/NNG...</td>\n",
       "      <td>down</td>\n",
       "    </tr>\n",
       "    <tr>\n",
       "      <th>246</th>\n",
       "      <td>2020-04-09</td>\n",
       "      <td>제8차_금통위 의사록</td>\n",
       "      <td>일부 위원은 관련부서에서 전망경로의 상하방 위험을 대체로 균형있게 고려  하고 있는...</td>\n",
       "      <td>['전망/NNG', '경로/NNG', '상하방/NNG', '위험/NNG', '대체로...</td>\n",
       "      <td>down</td>\n",
       "    </tr>\n",
       "    <tr>\n",
       "      <th>249</th>\n",
       "      <td>2020-05-28</td>\n",
       "      <td>제12차_금통위 의사록</td>\n",
       "      <td>일부 위원은 코로나19 사태의 전개양상을 둘러싼 불확실성이 매우 높은 상황  에서 ...</td>\n",
       "      <td>['코로나/NNG', '사태/NNG', '전개/NNG', '양상/NNG', '둘러싸...</td>\n",
       "      <td>down</td>\n",
       "    </tr>\n",
       "    <tr>\n",
       "      <th>252</th>\n",
       "      <td>2020-07-16</td>\n",
       "      <td>제15차_금통위 의사록</td>\n",
       "      <td>일부 위원은 지난 경제전망 이후 민간소비의 회복 속도가 예상보다 더딘 데  다 수출...</td>\n",
       "      <td>['경제/NNG', '전망/NNG', '민간/NNG', '소비/NNG', '회복/N...</td>\n",
       "      <td>up</td>\n",
       "    </tr>\n",
       "  </tbody>\n",
       "</table>\n",
       "</div>"
      ],
      "text/plain": [
       "           date         title  \\\n",
       "241  2020-01-17   제1차_금통위 의사록   \n",
       "242  2020-02-27   제4차_금통위 의사록   \n",
       "246  2020-04-09   제8차_금통위 의사록   \n",
       "249  2020-05-28  제12차_금통위 의사록   \n",
       "252  2020-07-16  제15차_금통위 의사록   \n",
       "\n",
       "                                               content  \\\n",
       "241  일부 위원은 미국 ISM제조업지수의 최근 월 발표내용을 보면 다수의 산업에  서 수...   \n",
       "242  일부 위원은 국내경제가 올해 회복세로 전환될 것이라는 당초 전망의 중요한  전제 중...   \n",
       "246  일부 위원은 관련부서에서 전망경로의 상하방 위험을 대체로 균형있게 고려  하고 있는...   \n",
       "249  일부 위원은 코로나19 사태의 전개양상을 둘러싼 불확실성이 매우 높은 상황  에서 ...   \n",
       "252  일부 위원은 지난 경제전망 이후 민간소비의 회복 속도가 예상보다 더딘 데  다 수출...   \n",
       "\n",
       "                                                 ngram label  \n",
       "241  ['ism/NNG', '제조업/NNG', '지수/NNG', '발표/NNG', '내용...  same  \n",
       "242  ['경제/NNG', '회복/NNG', '전환/NNG', '되/VV', '전망/NNG...  down  \n",
       "246  ['전망/NNG', '경로/NNG', '상하방/NNG', '위험/NNG', '대체로...  down  \n",
       "249  ['코로나/NNG', '사태/NNG', '전개/NNG', '양상/NNG', '둘러싸...  down  \n",
       "252  ['경제/NNG', '전망/NNG', '민간/NNG', '소비/NNG', '회복/N...    up  "
      ]
     },
     "execution_count": 3,
     "metadata": {},
     "output_type": "execute_result"
    }
   ],
   "source": [
    "# 금통위 의사록을 불러온다.\n",
    "df_3 = pd.read_csv('../datasets/minutes_with_label.csv')\n",
    "del df_3['Unnamed: 0']\n",
    "df_3 = df_3.dropna(axis=0)\n",
    "df_3.tail()"
   ]
  },
  {
   "cell_type": "code",
   "execution_count": 4,
   "metadata": {},
   "outputs": [],
   "source": [
    "# 금통위 의사록 중 아무 데이터나 하나 고른다.\n",
    "contents = df_3._get_value(235, 'content') \n",
    "contents = contents.replace('  ','').split('.')"
   ]
  },
  {
   "cell_type": "code",
   "execution_count": 5,
   "metadata": {},
   "outputs": [],
   "source": [
    "# 톤을 구한다.\n",
    "def tone(haw, dov):\n",
    "    # tone 공식 : (No.of Hawkish - No.of Dovish) / (No.of Hawkish + No.of Dovish)\n",
    "    bunja =  haw - dov\n",
    "    bunmo =  haw + dov\n",
    "    try:\n",
    "        tone = bunja / bunmo\n",
    "    except:\n",
    "        tone=0\n",
    "    \n",
    "    return tone "
   ]
  },
  {
   "cell_type": "code",
   "execution_count": 6,
   "metadata": {},
   "outputs": [],
   "source": [
    "# 문장 내의 haw와 dov의 개수를 센다.\n",
    "def cnt_haw_dov(ngram):\n",
    "    haw, dov = 0, 0\n",
    "    \n",
    "    for n in ngram:\n",
    "        if n in haw_ls:\n",
    "            haw+=1\n",
    "        elif n in dov_ls:\n",
    "            dov+=1\n",
    "            \n",
    "    tone_s = tone(haw, dov)\n",
    "\n",
    "    return np.where(tone_s>0, 'H', 'D')"
   ]
  },
  {
   "cell_type": "code",
   "execution_count": 7,
   "metadata": {},
   "outputs": [
    {
     "name": "stdout",
     "output_type": "stream",
     "text": [
      "tone_i =  -0.7152317880794702\n"
     ]
    }
   ],
   "source": [
    "haw_ls = pos_dic['ngram'].values.tolist()\n",
    "dov_ls = neg_dic['ngram'].values.tolist()\n",
    "\n",
    "Haw , Dov = 0, 0\n",
    "\n",
    "for sents in contents:\n",
    "    \n",
    "    tokens = mpck.tokenize(sents)\n",
    "    ngrams = mpck.ngramize(tokens)\n",
    "\n",
    "    ngram = tokens+ngrams\n",
    "\n",
    "    label = cnt_haw_dov(ngram)\n",
    "    \n",
    "    if label == 'H':\n",
    "        Haw +=1\n",
    "    else:\n",
    "        Dov +=1\n",
    "        \n",
    "# 문서 전체의 톤을 구한다.\n",
    "tone_i = tone(Haw, Dov)\n",
    "print('tone_i = ',tone_i)"
   ]
  }
 ],
 "metadata": {
  "kernelspec": {
   "display_name": "Python 3",
   "language": "python",
   "name": "python3"
  },
  "language_info": {
   "codemirror_mode": {
    "name": "ipython",
    "version": 3
   },
   "file_extension": ".py",
   "mimetype": "text/x-python",
   "name": "python",
   "nbconvert_exporter": "python",
   "pygments_lexer": "ipython3",
   "version": "3.7.9"
  }
 },
 "nbformat": 4,
 "nbformat_minor": 4
}
