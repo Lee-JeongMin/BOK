{
 "cells": [
  {
   "cell_type": "code",
   "execution_count": null,
   "metadata": {},
   "outputs": [],
   "source": [
    "import pandas as pd\n",
    "\n",
    "callrate = pd.read_csv('./call_rate.csv')\n",
    "\n",
    "# 날짜를 기준으로 정렬하기\n",
    "callrate = callrate.sort_values(by=['date'])\n",
    "# callrate.head(10)"
   ]
  },
  {
   "cell_type": "code",
   "execution_count": null,
   "metadata": {},
   "outputs": [],
   "source": [
    "def all_date_range_df(date_range):\n",
    "    df2 = pd.DataFrame({'date':date_range})\n",
    "    \n",
    "    return df2\n",
    "\n",
    "# 비어있는 날짜와 금리를 추가하기\n",
    "date_range = (pd.date_range(start='20041224', end='20200831')).strftime(\"%Y.%m.%d\").tolist()\n",
    "df2 = all_date_range_df(date_range)"
   ]
  },
  {
   "cell_type": "code",
   "execution_count": null,
   "metadata": {
    "scrolled": true
   },
   "outputs": [],
   "source": [
    "def df_outer_join_merge(df1, df2):\n",
    "    \n",
    "    # 두 df을 '날짜'키 값을 기준으로 outer_join 병합\n",
    "    df_OUTER_JOIN = pd.merge(df1, df2, left_on='date', right_on='date', how='outer', sort=True)\n",
    "    \n",
    "    # 두 값중 결측값을 앞 방향으로 채우기 (공휴일에 없는 환율정보는 전날을 기준으로 결측값 채우기)\n",
    "    df_finally = df_OUTER_JOIN.fillna(method='ffill')\n",
    "    \n",
    "    return df_finally\n",
    "\n",
    "fin_df = df_outer_join_merge(callrate, df2)\n",
    "fin_df = fin_df.set_index('date')\n",
    "# fin_df.head(40)"
   ]
  },
  {
   "cell_type": "code",
   "execution_count": null,
   "metadata": {},
   "outputs": [],
   "source": [
    "# 한달 전의 날짜 추가하기\n",
    "from datetime import datetime, timedelta\n",
    "from dateutil.relativedelta import relativedelta\n",
    "\n",
    "month_date = []\n",
    "for target_date in fin_df.index:\n",
    "    \n",
    "    month_before = (datetime.strptime(target_date,'%Y.%m.%d' ) - relativedelta(months = 1)).strftime('%Y.%m.%d')\n",
    "    month_date.append(month_before)\n",
    "    \n",
    "fin_df['month_date'] = month_date"
   ]
  },
  {
   "cell_type": "code",
   "execution_count": null,
   "metadata": {},
   "outputs": [],
   "source": [
    "# 한달 전의 날짜에 맞춰 콜 금리 추가하기\n",
    "month_rate=[]\n",
    "for target_date in fin_df['month_date']:\n",
    "    try:\n",
    "        rate = fin_df._get_value(target_date, 'callrate') \n",
    "        month_rate.append(rate)\n",
    "    except: # keyError 제외\n",
    "        month_rate.append(0.0)\n",
    "fin_df['month_rate'] = month_rate\n",
    "fin_df"
   ]
  },
  {
   "cell_type": "code",
   "execution_count": null,
   "metadata": {},
   "outputs": [],
   "source": [
    "# 콜 금리의 차이를 구하고 0 초과 : 'up', 0 같음 : 'same', 0 미만 : 'down'으로 라벨링\n",
    "value_diff = fin_df['callrate'] - fin_df['month_rate']\n",
    "\n",
    "for diff in value_diff:\n",
    "    if diff > 0:\n",
    "        fin_df['label'] = 'up'\n",
    "    elif diff == 0:\n",
    "        fin_df['label'] = 'same'\n",
    "    else:\n",
    "        fin_df['label'] = 'down'   \n",
    "fin_df"
   ]
  },
  {
   "cell_type": "code",
   "execution_count": null,
   "metadata": {},
   "outputs": [],
   "source": [
    "fin_df.reset_index(inplace=True)\n",
    "fin_df"
   ]
  },
  {
   "cell_type": "code",
   "execution_count": null,
   "metadata": {},
   "outputs": [],
   "source": []
  }
 ],
 "metadata": {
  "kernelspec": {
   "display_name": "Python 3",
   "language": "python",
   "name": "python3"
  },
  "language_info": {
   "codemirror_mode": {
    "name": "ipython",
    "version": 3
   },
   "file_extension": ".py",
   "mimetype": "text/x-python",
   "name": "python",
   "nbconvert_exporter": "python",
   "pygments_lexer": "ipython3",
   "version": "3.7.4"
  }
 },
 "nbformat": 4,
 "nbformat_minor": 2
}
