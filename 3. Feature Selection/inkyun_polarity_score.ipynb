{
 "cells": [
  {
   "cell_type": "code",
   "execution_count": 62,
   "metadata": {},
   "outputs": [],
   "source": [
    "import pandas as pd\n",
    "from tqdm.notebook import tqdm\n",
    "total_df = pd.read_csv('c:/Users/user/downloads/total_up_down.csv')\n",
    "\n",
    "total_df['polar_score'] = 0\n",
    "total_df['polarity'] = 0"
   ]
  },
  {
   "cell_type": "code",
   "execution_count": 63,
   "metadata": {},
   "outputs": [
    {
     "data": {
      "application/vnd.jupyter.widget-view+json": {
       "model_id": "2480e5c624fa4fa89edfd8d39fbb0232",
       "version_major": 2,
       "version_minor": 0
      },
      "text/plain": [
       "HBox(children=(FloatProgress(value=0.0, max=7883.0), HTML(value='')))"
      ]
     },
     "metadata": {},
     "output_type": "display_data"
    },
    {
     "name": "stdout",
     "output_type": "stream",
     "text": [
      "\n"
     ]
    }
   ],
   "source": [
    "pos_doc = 1670\n",
    "neg_doc = 1914\n",
    "\n",
    "p_hawkish = pos_doc/(pos_doc+neg_doc)\n",
    "p_dovish = neg_doc/(pos_doc+neg_doc)\n",
    "\n",
    "for row in tqdm(range(total_df.shape[0])):\n",
    "    total_df.loc[row,'polar_score'] = ((total_df.loc[row,'up_count']/total_df.loc[row,'total_count']+0.001)/p_hawkish)/((total_df.loc[row,'down_count']+0.001/total_df.loc[row,'total_count'])/p_dovish)\n",
    "    if total_df.loc[row,'polar_score'] > (1.3/1):\n",
    "        total_df.loc[row,'polarity'] = 'Hawkish'\n",
    "    elif total_df.loc[row,'polar_score'] < (1/1.3):\n",
    "        total_df.loc[row,'polarity'] = 'Dovish'\n",
    "    else:\n",
    "        total_df.loc[row,'polarity'] = 'nothing'"
   ]
  },
  {
   "cell_type": "code",
   "execution_count": 64,
   "metadata": {},
   "outputs": [
    {
     "data": {
      "text/plain": [
       "Dovish     7839\n",
       "Hawkish      26\n",
       "nothing      18\n",
       "Name: polarity, dtype: int64"
      ]
     },
     "execution_count": 64,
     "metadata": {},
     "output_type": "execute_result"
    }
   ],
   "source": [
    "total_df.polarity.value_counts()"
   ]
  }
 ],
 "metadata": {
  "kernelspec": {
   "display_name": "Python 3",
   "language": "python",
   "name": "python3"
  },
  "language_info": {
   "codemirror_mode": {
    "name": "ipython",
    "version": 3
   },
   "file_extension": ".py",
   "mimetype": "text/x-python",
   "name": "python",
   "nbconvert_exporter": "python",
   "pygments_lexer": "ipython3",
   "version": "3.6.10"
  }
 },
 "nbformat": 4,
 "nbformat_minor": 4
}
